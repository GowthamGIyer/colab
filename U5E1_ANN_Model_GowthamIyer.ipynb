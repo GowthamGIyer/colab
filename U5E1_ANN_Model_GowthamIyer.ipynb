{
  "nbformat": 4,
  "nbformat_minor": 0,
  "metadata": {
    "colab": {
      "provenance": []
    },
    "kernelspec": {
      "name": "python3",
      "display_name": "Python 3"
    }
  },
  "cells": [
    {
      "cell_type": "markdown",
      "metadata": {
        "id": "TOeyuajPOFoV"
      },
      "source": [
        "# U5E1 Pre Assignment Exercise\n",
        "ANN Model - MNIST Dataset\n",
        "Author: Gowtham Iyer"
      ]
    },
    {
      "cell_type": "markdown",
      "source": [
        "#Import required libraries"
      ],
      "metadata": {
        "id": "hOiAX7Z4u--u"
      }
    },
    {
      "cell_type": "code",
      "metadata": {
        "id": "a7rDjc8cNW8G"
      },
      "source": [
        "import tensorflow\n",
        "import matplotlib.pyplot as plt\n",
        "from tensorflow import keras\n",
        "from tensorflow.keras import Sequential\n",
        "from keras.src.engine import sequential\n",
        "from tensorflow.keras.layers import Dense, Flatten\n",
        "from sklearn.metrics import accuracy_score"
      ],
      "execution_count": null,
      "outputs": []
    },
    {
      "cell_type": "markdown",
      "metadata": {
        "id": "PqEKvmvvzmhx"
      },
      "source": [
        "## Loading the MNIST dataset"
      ]
    },
    {
      "cell_type": "code",
      "metadata": {
        "id": "Ar894XeOOgZc"
      },
      "source": [
        "(X_train, y_train), (X_test, y_test) = keras.datasets.mnist.load_data()"
      ],
      "execution_count": null,
      "outputs": []
    },
    {
      "cell_type": "markdown",
      "metadata": {
        "id": "xBhYywgpFlNJ"
      },
      "source": [
        "## Checking the shape of training dataset\n",
        "\n"
      ]
    },
    {
      "cell_type": "code",
      "metadata": {
        "id": "AR1bj9sIFqmA"
      },
      "source": [
        "X_train.shape"
      ],
      "execution_count": null,
      "outputs": []
    },
    {
      "cell_type": "markdown",
      "metadata": {
        "id": "Ud5iOl46JxZA"
      },
      "source": [
        "## Checking the shape of testing dataset"
      ]
    },
    {
      "cell_type": "code",
      "metadata": {
        "id": "eL6LsxMjJ2oF"
      },
      "source": [
        "X_test.shape"
      ],
      "execution_count": null,
      "outputs": []
    },
    {
      "cell_type": "markdown",
      "metadata": {
        "id": "XB9L8qfiQp1G"
      },
      "source": [
        "## Printing labels of the dataset"
      ]
    },
    {
      "cell_type": "code",
      "metadata": {
        "id": "ssYyJRg9QsHC"
      },
      "source": [
        "y_train"
      ],
      "execution_count": null,
      "outputs": []
    },
    {
      "cell_type": "markdown",
      "metadata": {
        "id": "RmuImaKHPrLI"
      },
      "source": [
        "## Plotting the train data"
      ]
    },
    {
      "cell_type": "code",
      "metadata": {
        "id": "hQgpaWDnPbWN"
      },
      "source": [
        "plt.imshow(X_train[0])"
      ],
      "execution_count": null,
      "outputs": []
    },
    {
      "cell_type": "markdown",
      "source": [
        "## Transforming values between 0-1 for faster convergence"
      ],
      "metadata": {
        "id": "tKXcckq1xNtV"
      }
    },
    {
      "cell_type": "code",
      "metadata": {
        "id": "KFPQiGm2ApXU"
      },
      "source": [
        "X_train = X_train/255\n",
        "\n",
        "X_test = X_test/255"
      ],
      "execution_count": null,
      "outputs": []
    },
    {
      "cell_type": "markdown",
      "metadata": {
        "id": "Mgk21Ni_ZfA5"
      },
      "source": [
        "## ANN Implementation"
      ]
    },
    {
      "cell_type": "code",
      "metadata": {
        "id": "ULdGHQaQZinu"
      },
      "source": [
        "model = Sequential()\n",
        "model.add(Flatten(input_shape=(28,28)))\n",
        "model.add(Dense(128,activation ='relu'))\n",
        "model.add(Dense(10,activation ='softmax'))"
      ],
      "execution_count": null,
      "outputs": []
    },
    {
      "cell_type": "markdown",
      "source": [
        "## Summarizing the model"
      ],
      "metadata": {
        "id": "g_bpvd91x48X"
      }
    },
    {
      "cell_type": "code",
      "metadata": {
        "id": "Xu2APbOd2ZsP"
      },
      "source": [
        "model.summary()"
      ],
      "execution_count": null,
      "outputs": []
    },
    {
      "cell_type": "markdown",
      "source": [
        "## Optimizing the loss"
      ],
      "metadata": {
        "id": "HB5ZW9oeyE33"
      }
    },
    {
      "cell_type": "code",
      "source": [
        "model.compile(loss = 'sparse_categorical_crossentropy', optimizer = 'Adam', metrics = []"
      ],
      "metadata": {
        "id": "l-v3f4bvyHvE"
      },
      "execution_count": null,
      "outputs": []
    },
    {
      "cell_type": "markdown",
      "source": [
        "## Training the model on training images and labels"
      ],
      "metadata": {
        "id": "CM1a6VEryYTR"
      }
    },
    {
      "cell_type": "code",
      "source": [
        "history = model.fit(X_train, y_train, epochs = 10, validation_split = 0.2)"
      ],
      "metadata": {
        "id": "Z7WU_Aq0yfHy"
      },
      "execution_count": null,
      "outputs": []
    },
    {
      "cell_type": "markdown",
      "source": [
        "## Predicting the probability of the model"
      ],
      "metadata": {
        "id": "iZApspXaykkP"
      }
    },
    {
      "cell_type": "code",
      "source": [
        "probablity = model.predict(X_test)\n",
        "predicted = probablity.argmax(axis = 1)"
      ],
      "metadata": {
        "id": "YD002ZrQynQy"
      },
      "execution_count": null,
      "outputs": []
    },
    {
      "cell_type": "markdown",
      "source": [
        "## Checking the accuracy of the predicted model"
      ],
      "metadata": {
        "id": "MngpidSAyxTO"
      }
    },
    {
      "cell_type": "code",
      "source": [
        "accuracy_score(y_test,predicted)"
      ],
      "metadata": {
        "id": "oMxIQZXPzC2v"
      },
      "execution_count": null,
      "outputs": []
    },
    {
      "cell_type": "markdown",
      "source": [
        "## Plotting the loss performance from the model"
      ],
      "metadata": {
        "id": "089eudLRzKsk"
      }
    },
    {
      "cell_type": "code",
      "source": [
        "plt.plot(history.history['loss'])\n",
        "plt.plot(history.history['val_loss'])"
      ],
      "metadata": {
        "id": "4qmWm-4dzNRr"
      },
      "execution_count": null,
      "outputs": []
    },
    {
      "cell_type": "markdown",
      "source": [
        "## Ploting the accuracy and validation accuracy of the model"
      ],
      "metadata": {
        "id": "QVgEI31xzXg_"
      }
    },
    {
      "cell_type": "code",
      "source": [
        "plt.plot(history.history['accuracy'])\n",
        "plt.plot(history.history['val_accuracy'])"
      ],
      "metadata": {
        "id": "rav9l8PCzbau"
      },
      "execution_count": null,
      "outputs": []
    },
    {
      "cell_type": "markdown",
      "source": [
        "## Testing the model"
      ],
      "metadata": {
        "id": "itVxHivKzj8K"
      }
    },
    {
      "cell_type": "code",
      "source": [
        "plt.imshow(X_test[2])"
      ],
      "metadata": {
        "id": "9BTZWCvEzm5K"
      },
      "execution_count": null,
      "outputs": []
    },
    {
      "cell_type": "markdown",
      "source": [
        "## Evaluating the model on test data"
      ],
      "metadata": {
        "id": "HtcjVccHzuG6"
      }
    },
    {
      "cell_type": "code",
      "source": [
        "model.predict(X_test[2].reshape(1,28,28)).argmax(axis=1)"
      ],
      "metadata": {
        "id": "w_1CALuezzGP"
      },
      "execution_count": null,
      "outputs": []
    }
  ]
}