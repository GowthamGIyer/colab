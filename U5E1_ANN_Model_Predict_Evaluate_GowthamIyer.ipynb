{
  "nbformat": 4,
  "nbformat_minor": 0,
  "metadata": {
    "colab": {
      "provenance": []
    },
    "kernelspec": {
      "name": "python3",
      "display_name": "Python 3"
    }
  },
  "cells": [
    {
      "cell_type": "markdown",
      "metadata": {
        "id": "TOeyuajPOFoV"
      },
      "source": [
        "# U5E1 Pre Assignment Exercise\n",
        "ANN Model - MNIST Dataset\n",
        "Author: Gowtham Iyer"
      ]
    },
    {
      "cell_type": "markdown",
      "source": [
        "#Import required libraries"
      ],
      "metadata": {
        "id": "hOiAX7Z4u--u"
      }
    },
    {
      "cell_type": "code",
      "metadata": {
        "id": "a7rDjc8cNW8G"
      },
      "source": [
        "import tensorflow\n",
        "import matplotlib.pyplot as plt\n",
        "from tensorflow import keras\n",
        "from tensorflow.keras import Sequential\n",
        "from keras.src.engine import sequential\n",
        "from tensorflow.keras.layers import Dense, Flatten\n",
        "from sklearn.metrics import accuracy_score"
      ],
      "execution_count": 17,
      "outputs": []
    },
    {
      "cell_type": "markdown",
      "metadata": {
        "id": "PqEKvmvvzmhx"
      },
      "source": [
        "## Loading the MNIST dataset"
      ]
    },
    {
      "cell_type": "code",
      "metadata": {
        "id": "Ar894XeOOgZc"
      },
      "source": [
        "(X_train, y_train), (X_test, y_test) = keras.datasets.mnist.load_data()"
      ],
      "execution_count": 18,
      "outputs": []
    },
    {
      "cell_type": "markdown",
      "source": [
        "## Transforming values between 0-1 for faster convergence"
      ],
      "metadata": {
        "id": "tKXcckq1xNtV"
      }
    },
    {
      "cell_type": "code",
      "metadata": {
        "id": "KFPQiGm2ApXU"
      },
      "source": [
        "X_train = X_train/255\n",
        "X_test = X_test/255\n"
      ],
      "execution_count": 19,
      "outputs": []
    },
    {
      "cell_type": "markdown",
      "metadata": {
        "id": "Mgk21Ni_ZfA5"
      },
      "source": [
        "## Loading the ANN model"
      ]
    },
    {
      "cell_type": "code",
      "metadata": {
        "id": "ULdGHQaQZinu"
      },
      "source": [
        "from keras.models import load_model\n",
        "\n",
        "# load model\n",
        "model = load_model('/content/model_MNIST.h5')"
      ],
      "execution_count": 20,
      "outputs": []
    },
    {
      "cell_type": "markdown",
      "source": [
        "## Summarizing the model"
      ],
      "metadata": {
        "id": "g_bpvd91x48X"
      }
    },
    {
      "cell_type": "code",
      "metadata": {
        "id": "Xu2APbOd2ZsP",
        "outputId": "a25cdcf5-a79f-487d-9eef-b9a4b11dbb32",
        "colab": {
          "base_uri": "https://localhost:8080/"
        }
      },
      "source": [
        "model.summary()"
      ],
      "execution_count": 22,
      "outputs": [
        {
          "output_type": "stream",
          "name": "stdout",
          "text": [
            "Model: \"sequential\"\n",
            "_________________________________________________________________\n",
            " Layer (type)                Output Shape              Param #   \n",
            "=================================================================\n",
            " flatten (Flatten)           (None, 784)               0         \n",
            "                                                                 \n",
            " dense (Dense)               (None, 128)               100480    \n",
            "                                                                 \n",
            " dense_1 (Dense)             (None, 10)                1290      \n",
            "                                                                 \n",
            "=================================================================\n",
            "Total params: 101770 (397.54 KB)\n",
            "Trainable params: 101770 (397.54 KB)\n",
            "Non-trainable params: 0 (0.00 Byte)\n",
            "_________________________________________________________________\n"
          ]
        }
      ]
    },
    {
      "cell_type": "markdown",
      "source": [
        "## Optimizing the loss"
      ],
      "metadata": {
        "id": "HB5ZW9oeyE33"
      }
    },
    {
      "cell_type": "code",
      "source": [
        "model.compile(loss = 'sparse_categorical_crossentropy', optimizer = 'Adam', metrics = ['accuracy'])"
      ],
      "metadata": {
        "id": "l-v3f4bvyHvE"
      },
      "execution_count": 24,
      "outputs": []
    },
    {
      "cell_type": "markdown",
      "source": [
        "## Training the model on training images and labels"
      ],
      "metadata": {
        "id": "CM1a6VEryYTR"
      }
    },
    {
      "cell_type": "code",
      "source": [
        "history = model.fit(X_train, y_train, epochs = 10, validation_split = 0.2)"
      ],
      "metadata": {
        "id": "Z7WU_Aq0yfHy",
        "outputId": "210286fd-f4d9-43e3-ca16-03b318d7484c",
        "colab": {
          "base_uri": "https://localhost:8080/"
        }
      },
      "execution_count": 25,
      "outputs": [
        {
          "output_type": "stream",
          "name": "stdout",
          "text": [
            "Epoch 1/10\n",
            "1500/1500 [==============================] - 8s 5ms/step - loss: 0.0160 - accuracy: 0.9951 - val_loss: 0.1021 - val_accuracy: 0.9753\n",
            "Epoch 2/10\n",
            "1500/1500 [==============================] - 6s 4ms/step - loss: 0.0131 - accuracy: 0.9959 - val_loss: 0.1048 - val_accuracy: 0.9737\n",
            "Epoch 3/10\n",
            "1500/1500 [==============================] - 8s 5ms/step - loss: 0.0110 - accuracy: 0.9965 - val_loss: 0.1018 - val_accuracy: 0.9759\n",
            "Epoch 4/10\n",
            "1500/1500 [==============================] - 6s 4ms/step - loss: 0.0089 - accuracy: 0.9974 - val_loss: 0.1042 - val_accuracy: 0.9756\n",
            "Epoch 5/10\n",
            "1500/1500 [==============================] - 7s 5ms/step - loss: 0.0077 - accuracy: 0.9975 - val_loss: 0.1051 - val_accuracy: 0.9767\n",
            "Epoch 6/10\n",
            "1500/1500 [==============================] - 6s 4ms/step - loss: 0.0091 - accuracy: 0.9970 - val_loss: 0.1180 - val_accuracy: 0.9744\n",
            "Epoch 7/10\n",
            "1500/1500 [==============================] - 7s 5ms/step - loss: 0.0069 - accuracy: 0.9980 - val_loss: 0.1221 - val_accuracy: 0.9745\n",
            "Epoch 8/10\n",
            "1500/1500 [==============================] - 7s 4ms/step - loss: 0.0049 - accuracy: 0.9986 - val_loss: 0.1383 - val_accuracy: 0.9718\n",
            "Epoch 9/10\n",
            "1500/1500 [==============================] - 7s 5ms/step - loss: 0.0065 - accuracy: 0.9980 - val_loss: 0.1256 - val_accuracy: 0.9739\n",
            "Epoch 10/10\n",
            "1500/1500 [==============================] - 6s 4ms/step - loss: 0.0037 - accuracy: 0.9989 - val_loss: 0.1295 - val_accuracy: 0.9740\n"
          ]
        }
      ]
    },
    {
      "cell_type": "markdown",
      "source": [
        "## Predicting the probability of the model"
      ],
      "metadata": {
        "id": "iZApspXaykkP"
      }
    },
    {
      "cell_type": "code",
      "source": [
        "probablity = model.predict(X_test)\n",
        "predicted = probablity.argmax(axis = 1)"
      ],
      "metadata": {
        "id": "YD002ZrQynQy",
        "outputId": "753c17f2-5df8-48cb-f34a-869b4ad83841",
        "colab": {
          "base_uri": "https://localhost:8080/"
        }
      },
      "execution_count": 26,
      "outputs": [
        {
          "output_type": "stream",
          "name": "stdout",
          "text": [
            "313/313 [==============================] - 1s 3ms/step\n"
          ]
        }
      ]
    },
    {
      "cell_type": "markdown",
      "source": [
        "## Checking the accuracy of the predicted model"
      ],
      "metadata": {
        "id": "MngpidSAyxTO"
      }
    },
    {
      "cell_type": "code",
      "source": [
        "accuracy_score(y_test,predicted)"
      ],
      "metadata": {
        "id": "oMxIQZXPzC2v",
        "outputId": "ccff8c6a-bf48-41f6-86d7-18fa9763d4cc",
        "colab": {
          "base_uri": "https://localhost:8080/"
        }
      },
      "execution_count": 27,
      "outputs": [
        {
          "output_type": "execute_result",
          "data": {
            "text/plain": [
              "0.9785"
            ]
          },
          "metadata": {},
          "execution_count": 27
        }
      ]
    },
    {
      "cell_type": "markdown",
      "source": [
        "## Plotting the loss performance from the model"
      ],
      "metadata": {
        "id": "089eudLRzKsk"
      }
    },
    {
      "cell_type": "code",
      "source": [
        "plt.plot(history.history['loss'])\n",
        "plt.plot(history.history['val_loss'])"
      ],
      "metadata": {
        "id": "4qmWm-4dzNRr",
        "outputId": "447dc46a-d525-4a75-eee9-674eac787792",
        "colab": {
          "base_uri": "https://localhost:8080/",
          "height": 448
        }
      },
      "execution_count": 28,
      "outputs": [
        {
          "output_type": "execute_result",
          "data": {
            "text/plain": [
              "[<matplotlib.lines.Line2D at 0x7ed814fcb130>]"
            ]
          },
          "metadata": {},
          "execution_count": 28
        },
        {
          "output_type": "display_data",
          "data": {
            "text/plain": [
              "<Figure size 640x480 with 1 Axes>"
            ],
            "image/png": "[encoded data removed]"
          },
          "metadata": {}
        }
      ]
    },
    {
      "cell_type": "markdown",
      "source": [
        "## Ploting the accuracy and validation accuracy of the model"
      ],
      "metadata": {
        "id": "QVgEI31xzXg_"
      }
    },
    {
      "cell_type": "code",
      "source": [
        "plt.plot(history.history['accuracy'])\n",
        "plt.plot(history.history['val_accuracy'])"
      ],
      "metadata": {
        "id": "rav9l8PCzbau",
        "outputId": "ac67b2ad-80b6-4282-b35d-cc9dded4a604",
        "colab": {
          "base_uri": "https://localhost:8080/",
          "height": 450
        }
      },
      "execution_count": 29,
      "outputs": [
        {
          "output_type": "execute_result",
          "data": {
            "text/plain": [
              "[<matplotlib.lines.Line2D at 0x7ed814eaf3a0>]"
            ]
          },
          "metadata": {},
          "execution_count": 29
        },
        {
          "output_type": "display_data",
          "data": {
            "text/plain": [
              "<Figure size 640x480 with 1 Axes>"
            ],
            "image/png": "[encoded data removed]"
          },
          "metadata": {}
        }
      ]
    },
    {
      "cell_type": "markdown",
      "source": [
        "## Testing the model"
      ],
      "metadata": {
        "id": "itVxHivKzj8K"
      }
    },
    {
      "cell_type": "code",
      "source": [
        "plt.imshow(X_test[2])"
      ],
      "metadata": {
        "id": "9BTZWCvEzm5K",
        "outputId": "9657c5f3-31b4-4f78-de86-ae341ad6ef1d",
        "colab": {
          "base_uri": "https://localhost:8080/",
          "height": 448
        }
      },
      "execution_count": 30,
      "outputs": [
        {
          "output_type": "execute_result",
          "data": {
            "text/plain": [
              "<matplotlib.image.AxesImage at 0x7ed814ef6fe0>"
            ]
          },
          "metadata": {},
          "execution_count": 30
        },
        {
          "output_type": "display_data",
          "data": {
            "text/plain": [
              "<Figure size 640x480 with 1 Axes>"
            ],
            "image/png": "[encoded data removed]"
          },
          "metadata": {}
        }
      ]
    },
    {
      "cell_type": "markdown",
      "source": [
        "## Evaluating the model on test data"
      ],
      "metadata": {
        "id": "HtcjVccHzuG6"
      }
    },
    {
      "cell_type": "code",
      "source": [
        "model.predict(X_test[2].reshape(1,28,28)).argmax(axis=1)"
      ],
      "metadata": {
        "id": "w_1CALuezzGP",
        "outputId": "26c34609-4977-4203-b0ba-e9455cc96c25",
        "colab": {
          "base_uri": "https://localhost:8080/"
        }
      },
      "execution_count": 31,
      "outputs": [
        {
          "output_type": "stream",
          "name": "stdout",
          "text": [
            "1/1 [==============================] - 0s 65ms/step\n"
          ]
        },
        {
          "output_type": "execute_result",
          "data": {
            "text/plain": [
              "array([1])"
            ]
          },
          "metadata": {},
          "execution_count": 31
        }
      ]
    }
  ]
}