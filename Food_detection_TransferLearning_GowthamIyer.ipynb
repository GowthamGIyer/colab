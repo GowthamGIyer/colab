{
  "cells": [
    {
      "cell_type": "code",
      "execution_count": 1,
      "id": "c573f3bc",
      "metadata": {
        "execution": {
          "iopub.execute_input": "2022-05-15T14:37:44.879892Z",
          "iopub.status.busy": "2022-05-15T14:37:44.879423Z",
          "iopub.status.idle": "2022-05-15T14:38:06.772586Z",
          "shell.execute_reply": "2022-05-15T14:38:06.771656Z"
        },
        "id": "c573f3bc",
        "papermill": {
          "duration": 21.942781,
          "end_time": "2022-05-15T14:38:06.775302",
          "exception": false,
          "start_time": "2022-05-15T14:37:44.832521",
          "status": "completed"
        },
        "tags": [],
        "colab": {
          "base_uri": "https://localhost:8080/"
        },
        "outputId": "8b41c5a5-2769-4af4-c5c3-071d2e693320"
      },
      "outputs": [
        {
          "output_type": "stream",
          "name": "stdout",
          "text": [
            "Requirement already satisfied: imutils in /usr/local/lib/python3.10/dist-packages (0.5.4)\n"
          ]
        }
      ],
      "source": [
        "# import the necessary packages\n",
        "!pip3 install imutils\n",
        "from tensorflow.keras.preprocessing.image import ImageDataGenerator\n",
        "from tensorflow.keras.applications import MobileNetV2\n",
        "from tensorflow.keras.applications import Xception\n",
        "from tensorflow.keras.layers import AveragePooling2D\n",
        "from tensorflow.keras.layers import Dropout\n",
        "from tensorflow.keras.layers import Flatten\n",
        "from tensorflow.keras.layers import Dense\n",
        "from tensorflow.keras.layers import Input\n",
        "from tensorflow.keras.models import Model\n",
        "from tensorflow.keras.optimizers import Adam,SGD\n",
        "from tensorflow.keras.applications.mobilenet_v2 import preprocess_input\n",
        "from tensorflow.keras.preprocessing.image import img_to_array\n",
        "from tensorflow.keras.preprocessing.image import load_img\n",
        "from tensorflow.keras.utils import to_categorical\n",
        "from sklearn.preprocessing import LabelBinarizer\n",
        "from sklearn.model_selection import train_test_split\n",
        "from sklearn.metrics import classification_report\n",
        "from imutils import paths\n",
        "import keras\n",
        "import tensorflow as tf\n",
        "import matplotlib.pyplot as plt\n",
        "import numpy as np\n",
        "import argparse\n",
        "import os\n",
        "import cv2"
      ]
    },
    {
      "cell_type": "markdown",
      "id": "0efed978",
      "metadata": {
        "papermill": {
          "duration": 0.026935,
          "end_time": "2022-05-15T14:38:06.829424",
          "exception": false,
          "start_time": "2022-05-15T14:38:06.802489",
          "status": "completed"
        },
        "tags": [],
        "id": "0efed978"
      },
      "source": [
        "## Load dataset"
      ]
    },
    {
      "cell_type": "code",
      "execution_count": 2,
      "id": "70c11041",
      "metadata": {
        "execution": {
          "iopub.execute_input": "2022-05-15T14:38:06.883664Z",
          "iopub.status.busy": "2022-05-15T14:38:06.883361Z",
          "iopub.status.idle": "2022-05-15T14:38:49.559168Z",
          "shell.execute_reply": "2022-05-15T14:38:49.558291Z"
        },
        "id": "70c11041",
        "outputId": "d15c276e-0982-4d2b-934c-2035a7f55ddf",
        "papermill": {
          "duration": 42.705545,
          "end_time": "2022-05-15T14:38:49.561592",
          "exception": false,
          "start_time": "2022-05-15T14:38:06.856047",
          "status": "completed"
        },
        "tags": [],
        "colab": {
          "base_uri": "https://localhost:8080/"
        }
      },
      "outputs": [
        {
          "output_type": "stream",
          "name": "stdout",
          "text": [
            "Downloading data from https://download.microsoft.com/download/3/E/1/3E1C3F21-ECDB-4869-8368-6DEBA77B919F/kagglecatsanddogs_5340.zip\n",
            "824887076/824887076 [==============================] - 5s 0us/step\n"
          ]
        }
      ],
      "source": [
        "import tensorflow as tf\n",
        "_URL = 'https://download.microsoft.com/download/3/E/1/3E1C3F21-ECDB-4869-8368-6DEBA77B919F/kagglecatsanddogs_5340.zip'\n",
        "zip_dir = tf.keras.utils.get_file('cats_and_dogs.zip', origin=_URL, extract=True)"
      ]
    },
    {
      "cell_type": "code",
      "execution_count": 3,
      "id": "3e612e14",
      "metadata": {
        "execution": {
          "iopub.execute_input": "2022-05-15T14:38:50.024485Z",
          "iopub.status.busy": "2022-05-15T14:38:50.023681Z",
          "iopub.status.idle": "2022-05-15T14:38:50.031903Z",
          "shell.execute_reply": "2022-05-15T14:38:50.031097Z"
        },
        "id": "3e612e14",
        "outputId": "1418320a-6b38-43dd-8b5d-8c1588035dc8",
        "papermill": {
          "duration": 0.252775,
          "end_time": "2022-05-15T14:38:50.035204",
          "exception": false,
          "start_time": "2022-05-15T14:38:49.782429",
          "status": "completed"
        },
        "tags": [],
        "colab": {
          "base_uri": "https://localhost:8080/",
          "height": 35
        }
      },
      "outputs": [
        {
          "output_type": "execute_result",
          "data": {
            "text/plain": [
              "'/root/.keras/datasets/cats_and_dogs.zip'"
            ],
            "application/vnd.google.colaboratory.intrinsic+json": {
              "type": "string"
            }
          },
          "metadata": {},
          "execution_count": 3
        }
      ],
      "source": [
        "zip_dir"
      ]
    },
    {
      "cell_type": "code",
      "execution_count": 4,
      "id": "d1121aa3",
      "metadata": {
        "execution": {
          "iopub.execute_input": "2022-05-15T14:38:50.673792Z",
          "iopub.status.busy": "2022-05-15T14:38:50.673088Z",
          "iopub.status.idle": "2022-05-15T14:39:06.581317Z",
          "shell.execute_reply": "2022-05-15T14:39:06.580239Z"
        },
        "papermill": {
          "duration": 16.27653,
          "end_time": "2022-05-15T14:39:06.583775",
          "exception": false,
          "start_time": "2022-05-15T14:38:50.307245",
          "status": "completed"
        },
        "tags": [],
        "id": "d1121aa3"
      },
      "outputs": [],
      "source": [
        "%%capture\n",
        "!unzip /root/.keras/datasets/cats_and_dogs.zip;"
      ]
    },
    {
      "cell_type": "code",
      "execution_count": 5,
      "id": "d66a8bfa",
      "metadata": {
        "execution": {
          "iopub.execute_input": "2022-05-15T14:39:07.036980Z",
          "iopub.status.busy": "2022-05-15T14:39:07.036634Z",
          "iopub.status.idle": "2022-05-15T14:39:07.806385Z",
          "shell.execute_reply": "2022-05-15T14:39:07.805370Z"
        },
        "id": "d66a8bfa",
        "outputId": "d5d368a9-225e-4dae-b766-e39b5b147002",
        "papermill": {
          "duration": 1.009785,
          "end_time": "2022-05-15T14:39:07.808685",
          "exception": false,
          "start_time": "2022-05-15T14:39:06.798900",
          "status": "completed"
        },
        "tags": [],
        "colab": {
          "base_uri": "https://localhost:8080/"
        }
      },
      "outputs": [
        {
          "output_type": "stream",
          "name": "stdout",
          "text": [
            " CDLA-Permissive-2.0.pdf   PetImages  'readme[1].txt'   sample_data\n"
          ]
        }
      ],
      "source": [
        "!ls"
      ]
    },
    {
      "cell_type": "code",
      "execution_count": 6,
      "id": "324205a4",
      "metadata": {
        "execution": {
          "iopub.execute_input": "2022-05-15T14:39:08.255065Z",
          "iopub.status.busy": "2022-05-15T14:39:08.254370Z",
          "iopub.status.idle": "2022-05-15T14:39:08.259189Z",
          "shell.execute_reply": "2022-05-15T14:39:08.258435Z"
        },
        "id": "324205a4",
        "papermill": {
          "duration": 0.231738,
          "end_time": "2022-05-15T14:39:08.261140",
          "exception": false,
          "start_time": "2022-05-15T14:39:08.029402",
          "status": "completed"
        },
        "tags": []
      },
      "outputs": [],
      "source": [
        "# initialize the initial learning rate, number of epochs to train for,\n",
        "# and batch size\n",
        "IMG_SIZE = 224\n",
        "INIT_LR = 1e-4\n",
        "BS = 256\n",
        "EPOCHS = 1"
      ]
    },
    {
      "cell_type": "code",
      "execution_count": 7,
      "id": "709b895b",
      "metadata": {
        "execution": {
          "iopub.execute_input": "2022-05-15T14:39:08.700512Z",
          "iopub.status.busy": "2022-05-15T14:39:08.699754Z",
          "iopub.status.idle": "2022-05-15T14:39:08.705520Z",
          "shell.execute_reply": "2022-05-15T14:39:08.704672Z"
        },
        "id": "709b895b",
        "papermill": {
          "duration": 0.226485,
          "end_time": "2022-05-15T14:39:08.707463",
          "exception": false,
          "start_time": "2022-05-15T14:39:08.480978",
          "status": "completed"
        },
        "tags": []
      },
      "outputs": [],
      "source": [
        "train = ImageDataGenerator(\n",
        "  rescale = 1./255,\n",
        "  horizontal_flip=True,\n",
        "  vertical_flip=True,\n",
        "  shear_range=0.2,\n",
        "  zoom_range=0.2,\n",
        "  rotation_range=40, # Degree range for random rotations\n",
        "  width_shift_range=0.2,\n",
        "  height_shift_range=0.2,\n",
        "  fill_mode='nearest',\n",
        "  validation_split=0.2)"
      ]
    },
    {
      "cell_type": "code",
      "execution_count": 8,
      "id": "2c205010",
      "metadata": {
        "execution": {
          "iopub.execute_input": "2022-05-15T14:39:09.194048Z",
          "iopub.status.busy": "2022-05-15T14:39:09.193513Z",
          "iopub.status.idle": "2022-05-15T14:39:09.199523Z",
          "shell.execute_reply": "2022-05-15T14:39:09.198741Z"
        },
        "id": "2c205010",
        "papermill": {
          "duration": 0.261557,
          "end_time": "2022-05-15T14:39:09.201884",
          "exception": false,
          "start_time": "2022-05-15T14:39:08.940327",
          "status": "completed"
        },
        "tags": []
      },
      "outputs": [],
      "source": [
        "dest = 'PetImages'"
      ]
    },
    {
      "cell_type": "markdown",
      "id": "74bd7605",
      "metadata": {
        "papermill": {
          "duration": 0.217317,
          "end_time": "2022-05-15T14:39:09.637344",
          "exception": false,
          "start_time": "2022-05-15T14:39:09.420027",
          "status": "completed"
        },
        "tags": [],
        "id": "74bd7605"
      },
      "source": [
        "## Removing Corrupt images"
      ]
    },
    {
      "cell_type": "code",
      "execution_count": 9,
      "id": "8e66486a",
      "metadata": {
        "execution": {
          "iopub.execute_input": "2022-05-15T14:39:10.102013Z",
          "iopub.status.busy": "2022-05-15T14:39:10.101709Z",
          "iopub.status.idle": "2022-05-15T14:39:10.106893Z",
          "shell.execute_reply": "2022-05-15T14:39:10.106045Z"
        },
        "id": "8e66486a",
        "papermill": {
          "duration": 0.252583,
          "end_time": "2022-05-15T14:39:10.109006",
          "exception": false,
          "start_time": "2022-05-15T14:39:09.856423",
          "status": "completed"
        },
        "tags": []
      },
      "outputs": [],
      "source": [
        "import PIL\n",
        "from pathlib import Path\n",
        "from PIL import UnidentifiedImageError"
      ]
    },
    {
      "cell_type": "code",
      "execution_count": 10,
      "id": "54376b97",
      "metadata": {
        "execution": {
          "iopub.execute_input": "2022-05-15T14:39:11.184924Z",
          "iopub.status.busy": "2022-05-15T14:39:11.184608Z",
          "iopub.status.idle": "2022-05-15T14:39:13.923571Z",
          "shell.execute_reply": "2022-05-15T14:39:13.921415Z"
        },
        "id": "54376b97",
        "outputId": "edf8b5a1-2fc7-4086-c847-d06dc28404ce",
        "papermill": {
          "duration": 2.968559,
          "end_time": "2022-05-15T14:39:13.926073",
          "exception": false,
          "start_time": "2022-05-15T14:39:10.957514",
          "status": "completed"
        },
        "tags": [],
        "colab": {
          "base_uri": "https://localhost:8080/"
        }
      },
      "outputs": [
        {
          "output_type": "stream",
          "name": "stdout",
          "text": [
            "PetImages/Cat/666.jpg\n"
          ]
        }
      ],
      "source": [
        "path = Path('PetImages/Cat').rglob(\"*.jpg\")\n",
        "for img_p in path:\n",
        "    try:\n",
        "        img = PIL.Image.open(img_p)\n",
        "    except PIL.UnidentifiedImageError:\n",
        "            print(img_p)"
      ]
    },
    {
      "cell_type": "code",
      "execution_count": 11,
      "id": "ad64a881",
      "metadata": {
        "execution": {
          "iopub.execute_input": "2022-05-15T14:39:15.115478Z",
          "iopub.status.busy": "2022-05-15T14:39:15.115105Z",
          "iopub.status.idle": "2022-05-15T14:39:15.132845Z",
          "shell.execute_reply": "2022-05-15T14:39:15.131722Z"
        },
        "id": "ad64a881",
        "outputId": "d5c3909a-d1bf-4053-bafa-bda5c80cb37e",
        "papermill": {
          "duration": 0.815928,
          "end_time": "2022-05-15T14:39:15.140191",
          "exception": false,
          "start_time": "2022-05-15T14:39:14.324263",
          "status": "completed"
        },
        "tags": [],
        "colab": {
          "base_uri": "https://localhost:8080/"
        }
      },
      "outputs": [
        {
          "output_type": "stream",
          "name": "stdout",
          "text": [
            "removed\n"
          ]
        }
      ],
      "source": [
        "import os\n",
        "try:\n",
        "    os.remove(\"PetImages/Cat/666.jpg\")\n",
        "    print(\"removed\")\n",
        "except:\n",
        "  print(\"can't remove\")\n",
        "  pass"
      ]
    },
    {
      "cell_type": "code",
      "execution_count": 12,
      "id": "a6d63d50",
      "metadata": {
        "execution": {
          "iopub.execute_input": "2022-05-15T14:39:16.614241Z",
          "iopub.status.busy": "2022-05-15T14:39:16.613971Z",
          "iopub.status.idle": "2022-05-15T14:39:19.266690Z",
          "shell.execute_reply": "2022-05-15T14:39:19.265638Z"
        },
        "id": "a6d63d50",
        "outputId": "acc84726-3389-4f01-ee5c-582c5097fd68",
        "papermill": {
          "duration": 2.877008,
          "end_time": "2022-05-15T14:39:19.269819",
          "exception": false,
          "start_time": "2022-05-15T14:39:16.392811",
          "status": "completed"
        },
        "tags": [],
        "colab": {
          "base_uri": "https://localhost:8080/"
        }
      },
      "outputs": [
        {
          "output_type": "stream",
          "name": "stdout",
          "text": [
            "PetImages/Dog/11702.jpg\n"
          ]
        },
        {
          "output_type": "stream",
          "name": "stderr",
          "text": [
            "/usr/local/lib/python3.10/dist-packages/PIL/TiffImagePlugin.py:858: UserWarning: Truncated File Read\n",
            "  warnings.warn(str(msg))\n"
          ]
        }
      ],
      "source": [
        "path = Path('PetImages/Dog').rglob(\"*.jpg\")\n",
        "for img_p in path:\n",
        "    try:\n",
        "        img = PIL.Image.open(img_p)\n",
        "    except PIL.UnidentifiedImageError:\n",
        "            print(img_p)"
      ]
    },
    {
      "cell_type": "code",
      "execution_count": 13,
      "id": "d489b875",
      "metadata": {
        "execution": {
          "iopub.execute_input": "2022-05-15T14:39:19.740165Z",
          "iopub.status.busy": "2022-05-15T14:39:19.739260Z",
          "iopub.status.idle": "2022-05-15T14:39:19.745531Z",
          "shell.execute_reply": "2022-05-15T14:39:19.744635Z"
        },
        "id": "d489b875",
        "outputId": "72cbd475-aeae-449f-d643-5462220f933a",
        "papermill": {
          "duration": 0.24185,
          "end_time": "2022-05-15T14:39:19.749414",
          "exception": false,
          "start_time": "2022-05-15T14:39:19.507564",
          "status": "completed"
        },
        "tags": [],
        "colab": {
          "base_uri": "https://localhost:8080/"
        }
      },
      "outputs": [
        {
          "output_type": "stream",
          "name": "stdout",
          "text": [
            "removed\n"
          ]
        }
      ],
      "source": [
        "import os\n",
        "try:\n",
        "    os.remove(\"PetImages/Dog/11702.jpg\")\n",
        "    print(\"removed\")\n",
        "except:\n",
        "  print(\"can't remove\")\n",
        "  pass"
      ]
    },
    {
      "cell_type": "markdown",
      "id": "5f66b301",
      "metadata": {
        "papermill": {
          "duration": 0.235829,
          "end_time": "2022-05-15T14:39:20.219784",
          "exception": false,
          "start_time": "2022-05-15T14:39:19.983955",
          "status": "completed"
        },
        "tags": [],
        "id": "5f66b301"
      },
      "source": [
        "## Train and Valid Set"
      ]
    },
    {
      "cell_type": "code",
      "execution_count": 14,
      "id": "c5d4627b",
      "metadata": {
        "execution": {
          "iopub.execute_input": "2022-05-15T14:39:20.666693Z",
          "iopub.status.busy": "2022-05-15T14:39:20.666407Z",
          "iopub.status.idle": "2022-05-15T14:39:21.840728Z",
          "shell.execute_reply": "2022-05-15T14:39:21.839912Z"
        },
        "id": "c5d4627b",
        "outputId": "bf3afcfd-2d52-4dda-d4df-50b1c4e00e82",
        "papermill": {
          "duration": 1.396851,
          "end_time": "2022-05-15T14:39:21.843263",
          "exception": false,
          "start_time": "2022-05-15T14:39:20.446412",
          "status": "completed"
        },
        "tags": [],
        "colab": {
          "base_uri": "https://localhost:8080/"
        }
      },
      "outputs": [
        {
          "output_type": "stream",
          "name": "stdout",
          "text": [
            "Found 20000 images belonging to 2 classes.\n"
          ]
        }
      ],
      "source": [
        "trainset = train.flow_from_directory(dest,\n",
        "  target_size = (IMG_SIZE,IMG_SIZE),\n",
        "  batch_size = BS,\n",
        "  shuffle=False,\n",
        "  seed=42,\n",
        "  color_mode='rgb',\n",
        "  subset = \"training\",\n",
        "  class_mode='categorical')\n"
      ]
    },
    {
      "cell_type": "code",
      "execution_count": 15,
      "id": "8ba2729a",
      "metadata": {
        "execution": {
          "iopub.execute_input": "2022-05-15T14:39:22.290749Z",
          "iopub.status.busy": "2022-05-15T14:39:22.290027Z",
          "iopub.status.idle": "2022-05-15T14:39:22.707690Z",
          "shell.execute_reply": "2022-05-15T14:39:22.706752Z"
        },
        "id": "8ba2729a",
        "outputId": "2cf1b112-1809-4a6d-db02-3aee05db4120",
        "papermill": {
          "duration": 0.643779,
          "end_time": "2022-05-15T14:39:22.710274",
          "exception": false,
          "start_time": "2022-05-15T14:39:22.066495",
          "status": "completed"
        },
        "tags": [],
        "colab": {
          "base_uri": "https://localhost:8080/"
        }
      },
      "outputs": [
        {
          "output_type": "stream",
          "name": "stdout",
          "text": [
            "Found 4998 images belonging to 2 classes.\n"
          ]
        }
      ],
      "source": [
        "validset = train.flow_from_directory(dest,\n",
        "  target_size = (IMG_SIZE,IMG_SIZE),\n",
        "  batch_size = BS,\n",
        "  shuffle=False,\n",
        "  seed=42,\n",
        "  color_mode='rgb',\n",
        "  subset = \"validation\",\n",
        "  class_mode='categorical')"
      ]
    },
    {
      "cell_type": "code",
      "execution_count": 16,
      "id": "cc16b4bc",
      "metadata": {
        "execution": {
          "iopub.execute_input": "2022-05-15T14:39:23.155922Z",
          "iopub.status.busy": "2022-05-15T14:39:23.155597Z",
          "iopub.status.idle": "2022-05-15T14:39:23.159488Z",
          "shell.execute_reply": "2022-05-15T14:39:23.158747Z"
        },
        "id": "cc16b4bc",
        "papermill": {
          "duration": 0.230288,
          "end_time": "2022-05-15T14:39:23.161338",
          "exception": false,
          "start_time": "2022-05-15T14:39:22.931050",
          "status": "completed"
        },
        "tags": []
      },
      "outputs": [],
      "source": [
        "NUM_CLASSES = 2"
      ]
    },
    {
      "cell_type": "markdown",
      "id": "3b9ce64c",
      "metadata": {
        "papermill": {
          "duration": 0.220032,
          "end_time": "2022-05-15T14:39:23.601580",
          "exception": false,
          "start_time": "2022-05-15T14:39:23.381548",
          "status": "completed"
        },
        "tags": [],
        "id": "3b9ce64c"
      },
      "source": [
        "## Model Architecture - Xception!"
      ]
    },
    {
      "cell_type": "code",
      "execution_count": 17,
      "id": "f2804364",
      "metadata": {
        "execution": {
          "iopub.execute_input": "2022-05-15T14:39:24.043538Z",
          "iopub.status.busy": "2022-05-15T14:39:24.043238Z",
          "iopub.status.idle": "2022-05-15T14:39:29.943972Z",
          "shell.execute_reply": "2022-05-15T14:39:29.942982Z"
        },
        "id": "f2804364",
        "outputId": "18b98cdc-36fc-4a81-df83-44df227efd14",
        "papermill": {
          "duration": 6.125076,
          "end_time": "2022-05-15T14:39:29.947011",
          "exception": false,
          "start_time": "2022-05-15T14:39:23.821935",
          "status": "completed"
        },
        "tags": [],
        "colab": {
          "base_uri": "https://localhost:8080/"
        }
      },
      "outputs": [
        {
          "output_type": "stream",
          "name": "stdout",
          "text": [
            "Downloading data from https://storage.googleapis.com/tensorflow/keras-applications/efficientnet_v2/efficientnetv2-b0_notop.h5\n",
            "24274472/24274472 [==============================] - 2s 0us/step\n",
            "[INFO] compiling model...\n",
            "[INFO] training head...\n"
          ]
        }
      ],
      "source": [
        "from keras.applications import EfficientNetV2B0\n",
        "\n",
        "# load the MobileNetV2 network, ensuring the head FC layer sets are\n",
        "# left off\n",
        "baseModel = EfficientNetV2B0(weights=\"imagenet\", include_top=False,\n",
        "                     input_tensor=Input(shape=(IMG_SIZE,IMG_SIZE, 3)))\n",
        "\n",
        "\n",
        "# construct the head of the model that will be placed on top of the\n",
        "# the base model\n",
        "headModel = baseModel.output\n",
        "headModel = AveragePooling2D(pool_size=(5, 5))(headModel)\n",
        "headModel = Flatten(name=\"flatten\")(headModel)\n",
        "headModel = Dense(64, activation=\"relu\")(headModel)\n",
        "headModel = Dropout(0.8)(headModel)\n",
        "headModel = Dense(NUM_CLASSES, activation=\"softmax\")(headModel)\n",
        "# place the head FC model on top of the base model (this will become\n",
        "# the actual model we will train)\n",
        "model = Model(inputs=baseModel.input, outputs=headModel)\n",
        "\n",
        "# loop over all layers in the base model and freeze them so they will\n",
        "# *not* be updated during the first training process\n",
        "for layer in baseModel.layers:\n",
        "\tlayer.trainable = False\n",
        "\n",
        "# for fine tuning\n",
        "# for layer in baseModel.layers[-10:]:\n",
        "#   layer.trainable = True\n",
        "\n",
        "# compile our model\n",
        "print(\"[INFO] compiling model...\")\n",
        "opt = Adam()\n",
        "model.compile(loss=\"binary_crossentropy\", optimizer=opt, metrics=[\"accuracy\"])\n",
        "# train the head of the network\n",
        "print(\"[INFO] training head...\")"
      ]
    },
    {
      "cell_type": "markdown",
      "id": "1034152e",
      "metadata": {
        "papermill": {
          "duration": 0.227338,
          "end_time": "2022-05-15T14:39:30.407267",
          "exception": false,
          "start_time": "2022-05-15T14:39:30.179929",
          "status": "completed"
        },
        "tags": [],
        "id": "1034152e"
      },
      "source": [
        "## Training"
      ]
    },
    {
      "cell_type": "code",
      "execution_count": 18,
      "id": "157eca33",
      "metadata": {
        "execution": {
          "iopub.execute_input": "2022-05-15T14:39:30.857549Z",
          "iopub.status.busy": "2022-05-15T14:39:30.857255Z",
          "iopub.status.idle": "2022-05-15T15:36:04.429639Z",
          "shell.execute_reply": "2022-05-15T15:36:04.428663Z"
        },
        "id": "157eca33",
        "outputId": "f1ca5201-b5e2-46a1-a8a6-dfd2e49b5bb9",
        "papermill": {
          "duration": 3393.800188,
          "end_time": "2022-05-15T15:36:04.433212",
          "exception": false,
          "start_time": "2022-05-15T14:39:30.633024",
          "status": "completed"
        },
        "tags": [],
        "colab": {
          "base_uri": "https://localhost:8080/"
        }
      },
      "outputs": [
        {
          "output_type": "stream",
          "name": "stdout",
          "text": [
            "79/79 [==============================] - 305s 4s/step - loss: 0.7098 - accuracy: 0.4241 - val_loss: 0.6931 - val_accuracy: 0.5000\n"
          ]
        }
      ],
      "source": [
        "H = model.fit(\n",
        "\ttrainset,\n",
        "  validation_data = validset,\n",
        "\tepochs=EPOCHS)"
      ]
    },
    {
      "cell_type": "code",
      "execution_count": 19,
      "id": "2f000aa2",
      "metadata": {
        "execution": {
          "iopub.execute_input": "2022-05-15T15:36:05.422688Z",
          "iopub.status.busy": "2022-05-15T15:36:05.421844Z",
          "iopub.status.idle": "2022-05-15T15:36:05.912856Z",
          "shell.execute_reply": "2022-05-15T15:36:05.911962Z"
        },
        "id": "2f000aa2",
        "outputId": "929bbdaa-1380-4b8e-9e61-93bd92c4910d",
        "papermill": {
          "duration": 0.955078,
          "end_time": "2022-05-15T15:36:05.918377",
          "exception": false,
          "start_time": "2022-05-15T15:36:04.963299",
          "status": "completed"
        },
        "tags": [],
        "colab": {
          "base_uri": "https://localhost:8080/"
        }
      },
      "outputs": [
        {
          "output_type": "stream",
          "name": "stdout",
          "text": [
            "[INFO] saving mask detector model...\n"
          ]
        },
        {
          "output_type": "stream",
          "name": "stderr",
          "text": [
            "/usr/local/lib/python3.10/dist-packages/keras/src/engine/training.py:3103: UserWarning: You are saving your model as an HDF5 file via `model.save()`. This file format is considered legacy. We recommend using instead the native Keras format, e.g. `model.save('my_model.keras')`.\n",
            "  saving_api.save_model(\n"
          ]
        }
      ],
      "source": [
        "# serialize the model to disk\n",
        "print(\"[INFO] saving mask detector model...\")\n",
        "model.save('cat_dog', save_format=\"h5\")"
      ]
    },
    {
      "cell_type": "markdown",
      "id": "6e74d55e",
      "metadata": {
        "papermill": {
          "duration": 0.700126,
          "end_time": "2022-05-15T15:36:07.358380",
          "exception": false,
          "start_time": "2022-05-15T15:36:06.658254",
          "status": "completed"
        },
        "tags": [],
        "id": "6e74d55e"
      },
      "source": [
        "## Accuracy Loss Plot"
      ]
    },
    {
      "cell_type": "code",
      "execution_count": 20,
      "id": "0dd3cca5",
      "metadata": {
        "execution": {
          "iopub.execute_input": "2022-05-15T15:36:08.265882Z",
          "iopub.status.busy": "2022-05-15T15:36:08.265577Z",
          "iopub.status.idle": "2022-05-15T15:36:08.559129Z",
          "shell.execute_reply": "2022-05-15T15:36:08.558207Z"
        },
        "id": "0dd3cca5",
        "outputId": "de7319fe-ea97-4e14-f4da-273427dc0d79",
        "papermill": {
          "duration": 0.750575,
          "end_time": "2022-05-15T15:36:08.561387",
          "exception": false,
          "start_time": "2022-05-15T15:36:07.810812",
          "status": "completed"
        },
        "tags": [],
        "colab": {
          "base_uri": "https://localhost:8080/",
          "height": 495
        }
      },
      "outputs": [
        {
          "output_type": "display_data",
          "data": {
            "text/plain": [
              "<Figure size 640x480 with 1 Axes>"
            ],
            "image/png": "[encoded data removed]"
          },
          "metadata": {}
        },
        {
          "output_type": "display_data",
          "data": {
            "text/plain": [
              "<Figure size 640x480 with 0 Axes>"
            ]
          },
          "metadata": {}
        }
      ],
      "source": [
        "# plot the training loss and accuracy\n",
        "N = EPOCHS\n",
        "plt.style.use(\"ggplot\")\n",
        "plt.figure()\n",
        "plt.plot(np.arange(0, N), H.history[\"loss\"], label=\"train_loss\")\n",
        "plt.plot(np.arange(0, N), H.history[\"val_loss\"], label=\"val_loss\")\n",
        "plt.plot(np.arange(0, N), H.history[\"accuracy\"], label=\"train_acc\")\n",
        "plt.plot(np.arange(0, N), H.history[\"val_accuracy\"], label=\"val_acc\")\n",
        "plt.title(\"Training Loss and Accuracy\")\n",
        "plt.xlabel(\"Epoch #\")\n",
        "plt.ylabel(\"Loss/Accuracy\")\n",
        "plt.legend(loc=\"lower right\")\n",
        "plt.show()\n",
        "plt.savefig('graph.png')"
      ]
    },
    {
      "cell_type": "markdown",
      "source": [
        "# Fine Tuning"
      ],
      "metadata": {
        "id": "JYgG3woDiF9W"
      },
      "id": "JYgG3woDiF9W"
    },
    {
      "cell_type": "code",
      "source": [
        "# Unfreeze some layers in the base model for fine-tuning\n",
        "for layer in baseModel.layers[-10:]:\n",
        "    layer.trainable = True\n",
        "\n",
        "baseModel.trainable = True\n",
        "\n",
        "# Recompile the model with a lower learning rate for fine-tuning\n",
        "model.compile(optimizer=Adam(learning_rate=1e-5), loss='binary_crossentropy', metrics=['accuracy'])\n",
        "\n",
        "# Fine-tune the model\n",
        "F = model.fit(\n",
        "\ttrainset,\n",
        "  validation_data = validset,\n",
        "\tepochs=EPOCHS)"
      ],
      "metadata": {
        "colab": {
          "base_uri": "https://localhost:8080/"
        },
        "id": "5k5sJk3aiFHO",
        "outputId": "051b9bbf-ee0e-4f2a-a0f9-f61036900b32"
      },
      "id": "5k5sJk3aiFHO",
      "execution_count": 22,
      "outputs": [
        {
          "output_type": "stream",
          "name": "stdout",
          "text": [
            "79/79 [==============================] - 359s 4s/step - loss: 0.9262 - accuracy: 0.5003 - val_loss: 0.7078 - val_accuracy: 0.5062\n"
          ]
        }
      ]
    }
  ],
  "metadata": {
    "kernelspec": {
      "display_name": "Python 3",
      "name": "python3"
    },
    "language_info": {
      "codemirror_mode": {
        "name": "ipython",
        "version": 3
      },
      "file_extension": ".py",
      "mimetype": "text/x-python",
      "name": "python",
      "nbconvert_exporter": "python",
      "pygments_lexer": "ipython3",
      "version": "3.7.12"
    },
    "papermill": {
      "default_parameters": {},
      "duration": 3517.554661,
      "end_time": "2022-05-15T15:36:13.089247",
      "environment_variables": {},
      "exception": null,
      "input_path": "__notebook__.ipynb",
      "output_path": "__notebook__.ipynb",
      "parameters": {},
      "start_time": "2022-05-15T14:37:35.534586",
      "version": "2.3.4"
    },
    "colab": {
      "provenance": [],
      "machine_shape": "hm",
      "gpuType": "L4"
    },
    "accelerator": "GPU"
  },
  "nbformat": 4,
  "nbformat_minor": 5
}