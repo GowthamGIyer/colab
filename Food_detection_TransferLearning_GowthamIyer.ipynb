{
  "cells": [
    {
      "cell_type": "markdown",
      "source": [
        "# Adding time stamp"
      ],
      "metadata": {
        "id": "UJf-BDA7epNY"
      },
      "id": "UJf-BDA7epNY"
    },
    {
      "cell_type": "code",
      "source": [
        "import datetime\n",
        "print(f\"This notebook was last run at : {datetime.datetime.now()}\")"
      ],
      "metadata": {
        "id": "qe4JDESCfJ8w",
        "outputId": "8674b3f3-ee0d-4f03-c551-bf66a9179f7a",
        "colab": {
          "base_uri": "https://localhost:8080/"
        }
      },
      "id": "qe4JDESCfJ8w",
      "execution_count": 2,
      "outputs": [
        {
          "output_type": "stream",
          "name": "stdout",
          "text": [
            "This notebook was last run at : 2024-06-03 14:25:41.417272\n"
          ]
        }
      ]
    },
    {
      "cell_type": "markdown",
      "source": [
        "# Checking for GPU configuration in the PC"
      ],
      "metadata": {
        "id": "Kc0qrCpxfmS2"
      },
      "id": "Kc0qrCpxfmS2"
    },
    {
      "cell_type": "code",
      "source": [
        "!nvidia-smi"
      ],
      "metadata": {
        "id": "_cIFeOVsfroO",
        "outputId": "ccdfe1e9-9877-4240-d4e9-cb6c73b903f8",
        "colab": {
          "base_uri": "https://localhost:8080/"
        }
      },
      "id": "_cIFeOVsfroO",
      "execution_count": 3,
      "outputs": [
        {
          "output_type": "stream",
          "name": "stdout",
          "text": [
            "Mon Jun  3 14:26:41 2024       \n",
            "+---------------------------------------------------------------------------------------+\n",
            "| NVIDIA-SMI 535.104.05             Driver Version: 535.104.05   CUDA Version: 12.2     |\n",
            "|-----------------------------------------+----------------------+----------------------+\n",
            "| GPU  Name                 Persistence-M | Bus-Id        Disp.A | Volatile Uncorr. ECC |\n",
            "| Fan  Temp   Perf          Pwr:Usage/Cap |         Memory-Usage | GPU-Util  Compute M. |\n",
            "|                                         |                      |               MIG M. |\n",
            "|=========================================+======================+======================|\n",
            "|   0  Tesla T4                       Off | 00000000:00:04.0 Off |                    0 |\n",
            "| N/A   37C    P8               9W /  70W |      0MiB / 15360MiB |      0%      Default |\n",
            "|                                         |                      |                  N/A |\n",
            "+-----------------------------------------+----------------------+----------------------+\n",
            "                                                                                         \n",
            "+---------------------------------------------------------------------------------------+\n",
            "| Processes:                                                                            |\n",
            "|  GPU   GI   CI        PID   Type   Process name                            GPU Memory |\n",
            "|        ID   ID                                                             Usage      |\n",
            "|=======================================================================================|\n",
            "|  No running processes found                                                           |\n",
            "+---------------------------------------------------------------------------------------+\n"
          ]
        }
      ]
    }
  ],
  "metadata": {
    "kernelspec": {
      "display_name": "Python 3",
      "name": "python3"
    },
    "language_info": {
      "codemirror_mode": {
        "name": "ipython",
        "version": 3
      },
      "file_extension": ".py",
      "mimetype": "text/x-python",
      "name": "python",
      "nbconvert_exporter": "python",
      "pygments_lexer": "ipython3",
      "version": "3.7.12"
    },
    "papermill": {
      "default_parameters": {},
      "duration": 3517.554661,
      "end_time": "2022-05-15T15:36:13.089247",
      "environment_variables": {},
      "exception": null,
      "input_path": "__notebook__.ipynb",
      "output_path": "__notebook__.ipynb",
      "parameters": {},
      "start_time": "2022-05-15T14:37:35.534586",
      "version": "2.3.4"
    },
    "colab": {
      "provenance": [],
      "machine_shape": "hm",
      "gpuType": "T4"
    },
    "accelerator": "GPU"
  },
  "nbformat": 4,
  "nbformat_minor": 5
}