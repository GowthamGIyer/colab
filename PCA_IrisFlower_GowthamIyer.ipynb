{
  "nbformat": 4,
  "nbformat_minor": 0,
  "metadata": {
    "colab": {
      "provenance": []
    },
    "kernelspec": {
      "name": "python3",
      "display_name": "Python 3"
    }
  },
  "cells": [
    {
      "cell_type": "markdown",
      "metadata": {
        "id": "TOeyuajPOFoV"
      },
      "source": [
        "#Coding Assignment U4A1\n",
        "Principal Component Analysis - Iris Flower\n",
        "Author: Gowtham Iyer"
      ]
    },
    {
      "cell_type": "code",
      "metadata": {
        "id": "a7rDjc8cNW8G"
      },
      "source": [
        "# Importing the libraries\n",
        "import numpy as np\n",
        "import matplotlib.pyplot as plt\n",
        "import pandas as pd\n",
        "import matplotlib\n",
        "import seaborn as sns\n",
        "from sklearn.datasets import load_breast_cancer"
      ],
      "execution_count": 14,
      "outputs": []
    },
    {
      "cell_type": "markdown",
      "metadata": {
        "id": "PqEKvmvvzmhx"
      },
      "source": [
        "## load file"
      ]
    },
    {
      "cell_type": "code",
      "metadata": {
        "id": "Ar894XeOOgZc",
        "colab": {
          "base_uri": "https://localhost:8080/"
        },
        "outputId": "b9661983-bb81-4ced-8ee0-88d8747af511"
      },
      "source": [
        "# Importing the dataset\n",
        "dataset = pd.read_csv('/content/iris.csv')\n",
        "\n",
        "cancer = load_breast_cancer(as_frame = True)\n",
        "print(cancer['feature_names'])\n",
        "print(cancer['target'])\n",
        "# creating dataframe\n",
        "df = cancer.frame\n",
        "# checking shape\n",
        "print('Original Dataframe shape :',df.shape)\n",
        "# Input features\n",
        "X = df[cancer['feature_names']]\n",
        "print('Inputs Dataframe shape :', X.shape)\n",
        "print(df.info())\n",
        "print(X.info())"
      ],
      "execution_count": 55,
      "outputs": [
        {
          "output_type": "stream",
          "name": "stdout",
          "text": [
            "['mean radius' 'mean texture' 'mean perimeter' 'mean area'\n",
            " 'mean smoothness' 'mean compactness' 'mean concavity'\n",
            " 'mean concave points' 'mean symmetry' 'mean fractal dimension'\n",
            " 'radius error' 'texture error' 'perimeter error' 'area error'\n",
            " 'smoothness error' 'compactness error' 'concavity error'\n",
            " 'concave points error' 'symmetry error' 'fractal dimension error'\n",
            " 'worst radius' 'worst texture' 'worst perimeter' 'worst area'\n",
            " 'worst smoothness' 'worst compactness' 'worst concavity'\n",
            " 'worst concave points' 'worst symmetry' 'worst fractal dimension']\n",
            "0      0\n",
            "1      0\n",
            "2      0\n",
            "3      0\n",
            "4      0\n",
            "      ..\n",
            "564    0\n",
            "565    0\n",
            "566    0\n",
            "567    0\n",
            "568    1\n",
            "Name: target, Length: 569, dtype: int64\n",
            "Original Dataframe shape : (569, 31)\n",
            "Inputs Dataframe shape : (569, 30)\n",
            "<class 'pandas.core.frame.DataFrame'>\n",
            "RangeIndex: 569 entries, 0 to 568\n",
            "Data columns (total 31 columns):\n",
            " #   Column                   Non-Null Count  Dtype  \n",
            "---  ------                   --------------  -----  \n",
            " 0   mean radius              569 non-null    float64\n",
            " 1   mean texture             569 non-null    float64\n",
            " 2   mean perimeter           569 non-null    float64\n",
            " 3   mean area                569 non-null    float64\n",
            " 4   mean smoothness          569 non-null    float64\n",
            " 5   mean compactness         569 non-null    float64\n",
            " 6   mean concavity           569 non-null    float64\n",
            " 7   mean concave points      569 non-null    float64\n",
            " 8   mean symmetry            569 non-null    float64\n",
            " 9   mean fractal dimension   569 non-null    float64\n",
            " 10  radius error             569 non-null    float64\n",
            " 11  texture error            569 non-null    float64\n",
            " 12  perimeter error          569 non-null    float64\n",
            " 13  area error               569 non-null    float64\n",
            " 14  smoothness error         569 non-null    float64\n",
            " 15  compactness error        569 non-null    float64\n",
            " 16  concavity error          569 non-null    float64\n",
            " 17  concave points error     569 non-null    float64\n",
            " 18  symmetry error           569 non-null    float64\n",
            " 19  fractal dimension error  569 non-null    float64\n",
            " 20  worst radius             569 non-null    float64\n",
            " 21  worst texture            569 non-null    float64\n",
            " 22  worst perimeter          569 non-null    float64\n",
            " 23  worst area               569 non-null    float64\n",
            " 24  worst smoothness         569 non-null    float64\n",
            " 25  worst compactness        569 non-null    float64\n",
            " 26  worst concavity          569 non-null    float64\n",
            " 27  worst concave points     569 non-null    float64\n",
            " 28  worst symmetry           569 non-null    float64\n",
            " 29  worst fractal dimension  569 non-null    float64\n",
            " 30  target                   569 non-null    int64  \n",
            "dtypes: float64(30), int64(1)\n",
            "memory usage: 137.9 KB\n",
            "None\n",
            "<class 'pandas.core.frame.DataFrame'>\n",
            "RangeIndex: 569 entries, 0 to 568\n",
            "Data columns (total 30 columns):\n",
            " #   Column                   Non-Null Count  Dtype  \n",
            "---  ------                   --------------  -----  \n",
            " 0   mean radius              569 non-null    float64\n",
            " 1   mean texture             569 non-null    float64\n",
            " 2   mean perimeter           569 non-null    float64\n",
            " 3   mean area                569 non-null    float64\n",
            " 4   mean smoothness          569 non-null    float64\n",
            " 5   mean compactness         569 non-null    float64\n",
            " 6   mean concavity           569 non-null    float64\n",
            " 7   mean concave points      569 non-null    float64\n",
            " 8   mean symmetry            569 non-null    float64\n",
            " 9   mean fractal dimension   569 non-null    float64\n",
            " 10  radius error             569 non-null    float64\n",
            " 11  texture error            569 non-null    float64\n",
            " 12  perimeter error          569 non-null    float64\n",
            " 13  area error               569 non-null    float64\n",
            " 14  smoothness error         569 non-null    float64\n",
            " 15  compactness error        569 non-null    float64\n",
            " 16  concavity error          569 non-null    float64\n",
            " 17  concave points error     569 non-null    float64\n",
            " 18  symmetry error           569 non-null    float64\n",
            " 19  fractal dimension error  569 non-null    float64\n",
            " 20  worst radius             569 non-null    float64\n",
            " 21  worst texture            569 non-null    float64\n",
            " 22  worst perimeter          569 non-null    float64\n",
            " 23  worst area               569 non-null    float64\n",
            " 24  worst smoothness         569 non-null    float64\n",
            " 25  worst compactness        569 non-null    float64\n",
            " 26  worst concavity          569 non-null    float64\n",
            " 27  worst concave points     569 non-null    float64\n",
            " 28  worst symmetry           569 non-null    float64\n",
            " 29  worst fractal dimension  569 non-null    float64\n",
            "dtypes: float64(30)\n",
            "memory usage: 133.5 KB\n",
            "None\n"
          ]
        }
      ]
    },
    {
      "cell_type": "code",
      "metadata": {
        "id": "DY9NJOmCPRao",
        "colab": {
          "base_uri": "https://localhost:8080/"
        },
        "outputId": "120e0545-b944-484e-f8ba-cbb6880aa850"
      },
      "source": [
        "print(dataset.shape)"
      ],
      "execution_count": 3,
      "outputs": [
        {
          "output_type": "stream",
          "name": "stdout",
          "text": [
            "(150, 5)\n"
          ]
        }
      ]
    },
    {
      "cell_type": "markdown",
      "metadata": {
        "id": "Ud5iOl46JxZA"
      },
      "source": [
        "## Separating Featureset from the Target"
      ]
    },
    {
      "cell_type": "code",
      "metadata": {
        "id": "eL6LsxMjJ2oF",
        "colab": {
          "base_uri": "https://localhost:8080/"
        },
        "outputId": "4d810dfe-2aac-43f2-9679-a253da82b98e"
      },
      "source": [
        "X = dataset.drop(columns='class_of_iris')\n",
        "print(X.shape)\n",
        "y = dataset['class_of_iris']\n",
        "print(y.shape)"
      ],
      "execution_count": 56,
      "outputs": [
        {
          "output_type": "stream",
          "name": "stdout",
          "text": [
            "(150, 4)\n",
            "(150,)\n"
          ]
        }
      ]
    },
    {
      "cell_type": "markdown",
      "source": [
        "# Standardization of data"
      ],
      "metadata": {
        "id": "gk0IM2EaKIHQ"
      }
    },
    {
      "cell_type": "code",
      "source": [
        "# Finding Mean\n",
        "X_mean = X.mean()\n",
        "\n",
        "# Finding Standard deviation\n",
        "X_standard_dev = X.std()\n",
        "\n",
        "# Standardization\n",
        "Z = (X - X_mean) / X_standard_dev"
      ],
      "metadata": {
        "id": "5PKBczuiKadO"
      },
      "execution_count": 12,
      "outputs": []
    },
    {
      "cell_type": "markdown",
      "source": [
        "# Finding Covariance matrix"
      ],
      "metadata": {
        "id": "5kRdRI0VK16j"
      }
    },
    {
      "cell_type": "code",
      "source": [
        "# Finding Covariance\n",
        "covariance_matrix = Z.cov()\n",
        "\n",
        "# Plot the covariance matrix\n",
        "sns.heatmap(covariance_matrix)\n",
        "plt.show()"
      ],
      "metadata": {
        "colab": {
          "base_uri": "https://localhost:8080/",
          "height": 435
        },
        "id": "SoFaS647K9tH",
        "outputId": "58f0c3ce-89be-48ed-89be-c143f49ce74d"
      },
      "execution_count": 15,
      "outputs": [
        {
          "output_type": "display_data",
          "data": {
            "text/plain": [
              "<Figure size 640x480 with 2 Axes>"
            ],
            "image/png": "[encoded data removed]"
          },
          "metadata": {}
        }
      ]
    },
    {
      "cell_type": "markdown",
      "source": [
        "# Computing Eigenvectors and Eigenvalues for the feature space"
      ],
      "metadata": {
        "id": "otnJlnkOMaDD"
      }
    },
    {
      "cell_type": "code",
      "source": [
        "eigenvalues, eigenvectors = np.linalg.eig(covariance_matrix)\n",
        "print('Eigen values:\\n', eigenvalues)\n",
        "print('Shape of Eigen values:', eigenvalues.shape)\n",
        "print('Shape of Eigen Vector:', eigenvectors.shape)"
      ],
      "metadata": {
        "colab": {
          "base_uri": "https://localhost:8080/"
        },
        "id": "z9MBf8yANC_b",
        "outputId": "864e612b-0631-400d-8199-b1bd702ed662"
      },
      "execution_count": 17,
      "outputs": [
        {
          "output_type": "stream",
          "name": "stdout",
          "text": [
            "Eigen values:\n",
            " [2.91081808 0.92122093 0.14735328 0.02060771]\n",
            "Shape of Eigen values: (4,)\n",
            "Shape of Eigen Vector: (4, 4)\n"
          ]
        }
      ]
    },
    {
      "cell_type": "markdown",
      "source": [
        "# Sorting Eigenvalues and corresponding Eigenvectors in descending order"
      ],
      "metadata": {
        "id": "BQm1xHNzPY3v"
      }
    },
    {
      "cell_type": "code",
      "source": [
        "# Index the eigenvalues in descending order\n",
        "idx = eigenvalues.argsort()[::-1]\n",
        "\n",
        "# Sort the eigenvalues in descending order\n",
        "eigenvalues = eigenvalues[idx]\n",
        "\n",
        "# sort the corresponding eigenvectors accordingly\n",
        "eigenvectors = eigenvectors[:,idx]\n",
        "\n",
        "print('Eigen values:\\n', eigenvalues)\n",
        "print('Eigen vectors:\\n', eigenvectors)"
      ],
      "metadata": {
        "colab": {
          "base_uri": "https://localhost:8080/"
        },
        "id": "3FVuzxZtPyhc",
        "outputId": "0b5468fb-8c58-470d-f895-26e58509cd5f"
      },
      "execution_count": 19,
      "outputs": [
        {
          "output_type": "stream",
          "name": "stdout",
          "text": [
            "Eigen values:\n",
            " [2.91081808 0.92122093 0.14735328 0.02060771]\n",
            "Eigen vectors:\n",
            " [[ 0.52237162 -0.37231836 -0.72101681  0.26199559]\n",
            " [-0.26335492 -0.92555649  0.24203288 -0.12413481]\n",
            " [ 0.58125401 -0.02109478  0.14089226 -0.80115427]\n",
            " [ 0.56561105 -0.06541577  0.6338014   0.52354627]]\n"
          ]
        }
      ]
    },
    {
      "cell_type": "markdown",
      "source": [
        "# Finding Variance"
      ],
      "metadata": {
        "id": "Y9mg9Y-OQqBH"
      }
    },
    {
      "cell_type": "code",
      "source": [
        "variance_array = np.cumsum(eigenvalues) / np.sum(eigenvalues)\n",
        "print(variance_array)\n",
        "#variance_array\n",
        "\n",
        "# Ordering the variance in descending order to select top 3\n",
        "idx = variance_array.argsort()[::-1]\n",
        "\n",
        "# Sort the eigenvalues in descending order\n",
        "variance_array_des = variance_array[idx]\n",
        "print(variance_array_des)\n",
        "eigenvectors_des = eigenvectors[:,idx]\n",
        "print(eigenvectors_des)"
      ],
      "metadata": {
        "colab": {
          "base_uri": "https://localhost:8080/"
        },
        "id": "_0RVJtCHQtO3",
        "outputId": "8356fa91-4342-40ee-da16-c6db09b58028"
      },
      "execution_count": 43,
      "outputs": [
        {
          "output_type": "stream",
          "name": "stdout",
          "text": [
            "[0.72770452 0.95800975 0.99484807 1.        ]\n",
            "[1.         0.99484807 0.95800975 0.72770452]\n",
            "[[ 0.26199559 -0.72101681 -0.37231836  0.52237162]\n",
            " [-0.12413481  0.24203288 -0.92555649 -0.26335492]\n",
            " [-0.80115427  0.14089226 -0.02109478  0.58125401]\n",
            " [ 0.52354627  0.6338014  -0.06541577  0.56561105]]\n"
          ]
        }
      ]
    },
    {
      "cell_type": "markdown",
      "source": [
        "# Setting number of components to 3 (of top 3 variance values)"
      ],
      "metadata": {
        "id": "4g417X4rdE7E"
      }
    },
    {
      "cell_type": "code",
      "source": [
        "n_components = 3\n",
        "n_components"
      ],
      "metadata": {
        "colab": {
          "base_uri": "https://localhost:8080/"
        },
        "id": "x1Lbm7ApVP6z",
        "outputId": "b3b8b69e-7770-42f7-c49a-7c85eafdb96e"
      },
      "execution_count": 44,
      "outputs": [
        {
          "output_type": "execute_result",
          "data": {
            "text/plain": [
              "3"
            ]
          },
          "metadata": {},
          "execution_count": 44
        }
      ]
    },
    {
      "cell_type": "code",
      "source": [
        "# PCA component or unit matrix\n",
        "u = eigenvectors[:,:n_components]\n",
        "pca_component = pd.DataFrame(u,\n",
        "                             index = X.columns,\n",
        "                             columns = ['PC1','PC2','PC3']\n",
        "                            )\n",
        "print(pca_component)\n",
        "# plotting heatmap\n",
        "plt.figure(figsize =(5, 7))\n",
        "sns.heatmap(pca_component)\n",
        "plt.title('PCA Component')\n",
        "plt.show()"
      ],
      "metadata": {
        "colab": {
          "base_uri": "https://localhost:8080/",
          "height": 709
        },
        "id": "x_P8xuwoWfqA",
        "outputId": "96c23971-aced-447f-d61d-f6705db7a45b"
      },
      "execution_count": 48,
      "outputs": [
        {
          "output_type": "stream",
          "name": "stdout",
          "text": [
            "                   PC1       PC2       PC3\n",
            "sepal_length  0.522372 -0.372318 -0.721017\n",
            "sepal_width  -0.263355 -0.925556  0.242033\n",
            "petal_length  0.581254 -0.021095  0.140892\n",
            "petal_width   0.565611 -0.065416  0.633801\n"
          ]
        },
        {
          "output_type": "display_data",
          "data": {
            "text/plain": [
              "<Figure size 500x700 with 2 Axes>"
            ],
            "image/png": "[encoded data removed]"
          },
          "metadata": {}
        }
      ]
    },
    {
      "cell_type": "markdown",
      "source": [
        "# Projecting the dataset in lower dimension"
      ],
      "metadata": {
        "id": "80UZHqIreoJ5"
      }
    },
    {
      "cell_type": "code",
      "source": [
        "# Matrix multiplication or dot Product\n",
        "Z_pca = Z @ pca_component\n",
        "# Rename the columns name\n",
        "Z_pca.rename({'PC1': 'PCA1', 'PC2': 'PCA2','PC3': 'PCA3' }, axis=1, inplace=True)\n",
        "# Print the  Pricipal Component values\n",
        "print(Z_pca)"
      ],
      "metadata": {
        "colab": {
          "base_uri": "https://localhost:8080/"
        },
        "id": "Q58-9-NletpY",
        "outputId": "4fb94aed-af1b-46b1-e43c-cadc8e6c4700"
      },
      "execution_count": 49,
      "outputs": [
        {
          "output_type": "stream",
          "name": "stdout",
          "text": [
            "         PCA1      PCA2      PCA3\n",
            "0   -2.764907 -0.487883  0.337705\n",
            "1   -2.630902  0.935149  0.188937\n",
            "2   -2.184972 -1.883668 -0.467913\n",
            "3   -2.203737  0.183722 -0.217895\n",
            "4   -2.360044  0.317414  0.051308\n",
            "..        ...       ...       ...\n",
            "145  1.574879 -1.068894  0.940243\n",
            "146  2.009425 -0.608359  0.424493\n",
            "147  1.995008 -1.045049  0.627168\n",
            "148  1.841503 -0.868786  0.999413\n",
            "149  2.259983 -1.915027  0.391207\n",
            "\n",
            "[150 rows x 3 columns]\n"
          ]
        }
      ]
    },
    {
      "cell_type": "markdown",
      "source": [
        "# Finding PCA using Using Sklearn"
      ],
      "metadata": {
        "id": "k2g3MzJgfL-B"
      }
    },
    {
      "cell_type": "code",
      "source": [
        "# Importing PCA\n",
        "from sklearn.decomposition import PCA\n",
        "\n",
        "pca = PCA(n_components = 3)\n",
        "pca.fit(Z)\n",
        "x_pca = pca.transform(Z)\n",
        "\n",
        "# Create the dataframe\n",
        "df_pca1 = pd.DataFrame(x_pca,\n",
        "\t\t\t\t\tcolumns=['PC{}'.\n",
        "\t\t\t\t\tformat(i+1)\n",
        "\t\t\t\t\t\tfor i in range(n_components)])\n",
        "print(df_pca1)"
      ],
      "metadata": {
        "colab": {
          "base_uri": "https://localhost:8080/"
        },
        "id": "7IkS9X1LfRhp",
        "outputId": "cc4dd04e-1c26-4c03-d012-e399d012f1a9"
      },
      "execution_count": 47,
      "outputs": [
        {
          "output_type": "stream",
          "name": "stdout",
          "text": [
            "          PC1       PC2       PC3\n",
            "0   -2.764907  0.487883  0.337705\n",
            "1   -2.630902 -0.935149  0.188937\n",
            "2   -2.184972  1.883668 -0.467913\n",
            "3   -2.203737 -0.183722 -0.217895\n",
            "4   -2.360044 -0.317414  0.051308\n",
            "..        ...       ...       ...\n",
            "145  1.574879  1.068894  0.940243\n",
            "146  2.009425  0.608359  0.424493\n",
            "147  1.995008  1.045049  0.627168\n",
            "148  1.841503  0.868786  0.999413\n",
            "149  2.259983  1.915027  0.391207\n",
            "\n",
            "[150 rows x 3 columns]\n"
          ]
        }
      ]
    },
    {
      "cell_type": "markdown",
      "source": [
        "# Plotting the components"
      ],
      "metadata": {
        "id": "QmPL6mdEhOa7"
      }
    },
    {
      "cell_type": "code",
      "source": [
        "# giving a larger plot\n",
        "plt.figure(figsize=(8, 6))\n",
        "\n",
        "plt.scatter(x_pca[:, 0], x_pca[:, 1], cmap='viridis')\n",
        "\n",
        "# labeling x and y axes\n",
        "plt.xlabel('First Principal Component')\n",
        "plt.ylabel('Second Principal Component')\n",
        "plt.show()"
      ],
      "metadata": {
        "id": "w5yo7BV2hSv1",
        "outputId": "0ebc1123-61de-4693-cba4-010c809bd864",
        "colab": {
          "base_uri": "https://localhost:8080/",
          "height": 577
        }
      },
      "execution_count": 62,
      "outputs": [
        {
          "output_type": "stream",
          "name": "stderr",
          "text": [
            "<ipython-input-62-9720780110ea>:4: UserWarning: No data for colormapping provided via 'c'. Parameters 'cmap' will be ignored\n",
            "  plt.scatter(x_pca[:, 0], x_pca[:, 1], cmap='viridis')\n"
          ]
        },
        {
          "output_type": "display_data",
          "data": {
            "text/plain": [
              "<Figure size 800x600 with 1 Axes>"
            ],
            "image/png": "[encoded data removed]"
          },
          "metadata": {}
        }
      ]
    },
    {
      "cell_type": "markdown",
      "metadata": {
        "id": "RmuImaKHPrLI"
      },
      "source": [
        "## Creating and evaluating Logistic Regression model for PC1 Component\n",
        "\n"
      ]
    },
    {
      "cell_type": "code",
      "metadata": {
        "id": "hQgpaWDnPbWN",
        "colab": {
          "base_uri": "https://localhost:8080/",
          "height": 74
        },
        "outputId": "40e6131f-37fc-41ef-97c1-3af8b621c869"
      },
      "source": [
        "from sklearn.linear_model import LogisticRegression\n",
        "from sklearn import metrics\n",
        "from sklearn.model_selection import train_test_split\n",
        "from sklearn import preprocessing\n",
        "from sklearn.metrics import classification_report\n",
        "from sklearn.metrics import confusion_matrix\n",
        "\n",
        "X = dataset.drop(columns='class_of_iris')\n",
        "X_petal_width = dataset['petal_width']\n",
        "y = dataset['class_of_iris']\n",
        "\n",
        "label_encoder = preprocessing.LabelEncoder()\n",
        "y_label_encoder = label_encoder.fit_transform(y)\n",
        "\n",
        "X_train, X_test, y_train, y_test = train_test_split(X_petal_width, y_label_encoder,\n",
        "                                                    test_size=0.3, random_state=0)\n",
        "\n",
        "X_train = np.reshape(X_train.values, (-1,1))\n",
        "X_test = np.reshape(X_test.values, (-1,1))\n",
        "\n",
        "logreg = LogisticRegression()\n",
        "logreg.fit(X_train, y_train)\n",
        "\n",
        "print('Evalutation metrics')\n",
        "y_pred = logreg.predict(X_test)\n",
        "print('Accuracy of test set: {:.2f}'.format(logreg.score(X_test, y_test)))\n",
        "\n",
        "report = classification_report(y_test, y_pred)\n",
        "print(report)"
      ],
      "execution_count": 63,
      "outputs": [
        {
          "output_type": "execute_result",
          "data": {
            "text/plain": [
              "LogisticRegression()"
            ],
            "text/html": [
              "<style>#sk-container-id-1 {color: black;background-color: white;}#sk-container-id-1 pre{padding: 0;}#sk-container-id-1 div.sk-toggleable {background-color: white;}#sk-container-id-1 label.sk-toggleable__label {cursor: pointer;display: block;width: 100%;margin-bottom: 0;padding: 0.3em;box-sizing: border-box;text-align: center;}#sk-container-id-1 label.sk-toggleable__label-arrow:before {content: \"▸\";float: left;margin-right: 0.25em;color: #696969;}#sk-container-id-1 label.sk-toggleable__label-arrow:hover:before {color: black;}#sk-container-id-1 div.sk-estimator:hover label.sk-toggleable__label-arrow:before {color: black;}#sk-container-id-1 div.sk-toggleable__content {max-height: 0;max-width: 0;overflow: hidden;text-align: left;background-color: #f0f8ff;}#sk-container-id-1 div.sk-toggleable__content pre {margin: 0.2em;color: black;border-radius: 0.25em;background-color: #f0f8ff;}#sk-container-id-1 input.sk-toggleable__control:checked~div.sk-toggleable__content {max-height: 200px;max-width: 100%;overflow: auto;}#sk-container-id-1 input.sk-toggleable__control:checked~label.sk-toggleable__label-arrow:before {content: \"▾\";}#sk-container-id-1 div.sk-estimator input.sk-toggleable__control:checked~label.sk-toggleable__label {background-color: #d4ebff;}#sk-container-id-1 div.sk-label input.sk-toggleable__control:checked~label.sk-toggleable__label {background-color: #d4ebff;}#sk-container-id-1 input.sk-hidden--visually {border: 0;clip: rect(1px 1px 1px 1px);clip: rect(1px, 1px, 1px, 1px);height: 1px;margin: -1px;overflow: hidden;padding: 0;position: absolute;width: 1px;}#sk-container-id-1 div.sk-estimator {font-family: monospace;background-color: #f0f8ff;border: 1px dotted black;border-radius: 0.25em;box-sizing: border-box;margin-bottom: 0.5em;}#sk-container-id-1 div.sk-estimator:hover {background-color: #d4ebff;}#sk-container-id-1 div.sk-parallel-item::after {content: \"\";width: 100%;border-bottom: 1px solid gray;flex-grow: 1;}#sk-container-id-1 div.sk-label:hover label.sk-toggleable__label {background-color: #d4ebff;}#sk-container-id-1 div.sk-serial::before {content: \"\";position: absolute;border-left: 1px solid gray;box-sizing: border-box;top: 0;bottom: 0;left: 50%;z-index: 0;}#sk-container-id-1 div.sk-serial {display: flex;flex-direction: column;align-items: center;background-color: white;padding-right: 0.2em;padding-left: 0.2em;position: relative;}#sk-container-id-1 div.sk-item {position: relative;z-index: 1;}#sk-container-id-1 div.sk-parallel {display: flex;align-items: stretch;justify-content: center;background-color: white;position: relative;}#sk-container-id-1 div.sk-item::before, #sk-container-id-1 div.sk-parallel-item::before {content: \"\";position: absolute;border-left: 1px solid gray;box-sizing: border-box;top: 0;bottom: 0;left: 50%;z-index: -1;}#sk-container-id-1 div.sk-parallel-item {display: flex;flex-direction: column;z-index: 1;position: relative;background-color: white;}#sk-container-id-1 div.sk-parallel-item:first-child::after {align-self: flex-end;width: 50%;}#sk-container-id-1 div.sk-parallel-item:last-child::after {align-self: flex-start;width: 50%;}#sk-container-id-1 div.sk-parallel-item:only-child::after {width: 0;}#sk-container-id-1 div.sk-dashed-wrapped {border: 1px dashed gray;margin: 0 0.4em 0.5em 0.4em;box-sizing: border-box;padding-bottom: 0.4em;background-color: white;}#sk-container-id-1 div.sk-label label {font-family: monospace;font-weight: bold;display: inline-block;line-height: 1.2em;}#sk-container-id-1 div.sk-label-container {text-align: center;}#sk-container-id-1 div.sk-container {/* jupyter's `normalize.less` sets `[hidden] { display: none; }` but bootstrap.min.css set `[hidden] { display: none !important; }` so we also need the `!important` here to be able to override the default hidden behavior on the sphinx rendered scikit-learn.org. See: https://github.com/scikit-learn/scikit-learn/issues/21755 */display: inline-block !important;position: relative;}#sk-container-id-1 div.sk-text-repr-fallback {display: none;}</style><div id=\"sk-container-id-1\" class=\"sk-top-container\"><div class=\"sk-text-repr-fallback\"><pre>LogisticRegression()</pre><b>In a Jupyter environment, please rerun this cell to show the HTML representation or trust the notebook. <br />On GitHub, the HTML representation is unable to render, please try loading this page with nbviewer.org.</b></div><div class=\"sk-container\" hidden><div class=\"sk-item\"><div class=\"sk-estimator sk-toggleable\"><input class=\"sk-toggleable__control sk-hidden--visually\" id=\"sk-estimator-id-1\" type=\"checkbox\" checked><label for=\"sk-estimator-id-1\" class=\"sk-toggleable__label sk-toggleable__label-arrow\">LogisticRegression</label><div class=\"sk-toggleable__content\"><pre>LogisticRegression()</pre></div></div></div></div></div>"
            ]
          },
          "metadata": {},
          "execution_count": 63
        }
      ]
    },
    {
      "cell_type": "markdown",
      "source": [
        "## Creating and evaluating Logistic Regression model for PC1 and PC2 compoents"
      ],
      "metadata": {
        "id": "nxMb9rOKnBt6"
      }
    },
    {
      "cell_type": "code",
      "metadata": {
        "colab": {
          "base_uri": "https://localhost:8080/",
          "height": 74
        },
        "id": "KFPQiGm2ApXU",
        "outputId": "4fed75d4-977a-42e4-a653-95796adf7927"
      },
      "source": [
        "from sklearn.linear_model import LogisticRegression\n",
        "from sklearn import metrics\n",
        "from sklearn.model_selection import train_test_split\n",
        "from sklearn import preprocessing\n",
        "from sklearn.metrics import classification_report\n",
        "from sklearn.metrics import confusion_matrix\n",
        "\n",
        "X = dataset.drop(columns='class_of_iris')\n",
        "X_petal_width = dataset['petal_width']\n",
        "y = dataset['class_of_iris']\n",
        "\n",
        "label_encoder = preprocessing.LabelEncoder()\n",
        "y_label_encoder = label_encoder.fit_transform(y)\n",
        "\n",
        "X_train, X_test, y_train, y_test = train_test_split(X_petal_width, y_label_encoder,\n",
        "                                                    test_size=0.3, random_state=0)\n",
        "\n",
        "X_train = np.reshape(X_train.values, (-1,1))\n",
        "X_test = np.reshape(X_test.values, (-1,1))\n",
        "\n",
        "logreg = LogisticRegression()\n",
        "logreg.fit(X_train, y_train)\n",
        "\n",
        "print('Evalutation metrics')\n",
        "y_pred = logreg.predict(X_test)\n",
        "print('Accuracy of test set: {:.2f}'.format(logreg.score(X_test, y_test)))\n",
        "\n",
        "report = classification_report(y_test, y_pred)\n",
        "print(report)"
      ],
      "execution_count": null,
      "outputs": [
        {
          "output_type": "execute_result",
          "data": {
            "text/plain": [
              "LogisticRegression()"
            ],
            "text/html": [
              "<style>#sk-container-id-2 {color: black;background-color: white;}#sk-container-id-2 pre{padding: 0;}#sk-container-id-2 div.sk-toggleable {background-color: white;}#sk-container-id-2 label.sk-toggleable__label {cursor: pointer;display: block;width: 100%;margin-bottom: 0;padding: 0.3em;box-sizing: border-box;text-align: center;}#sk-container-id-2 label.sk-toggleable__label-arrow:before {content: \"▸\";float: left;margin-right: 0.25em;color: #696969;}#sk-container-id-2 label.sk-toggleable__label-arrow:hover:before {color: black;}#sk-container-id-2 div.sk-estimator:hover label.sk-toggleable__label-arrow:before {color: black;}#sk-container-id-2 div.sk-toggleable__content {max-height: 0;max-width: 0;overflow: hidden;text-align: left;background-color: #f0f8ff;}#sk-container-id-2 div.sk-toggleable__content pre {margin: 0.2em;color: black;border-radius: 0.25em;background-color: #f0f8ff;}#sk-container-id-2 input.sk-toggleable__control:checked~div.sk-toggleable__content {max-height: 200px;max-width: 100%;overflow: auto;}#sk-container-id-2 input.sk-toggleable__control:checked~label.sk-toggleable__label-arrow:before {content: \"▾\";}#sk-container-id-2 div.sk-estimator input.sk-toggleable__control:checked~label.sk-toggleable__label {background-color: #d4ebff;}#sk-container-id-2 div.sk-label input.sk-toggleable__control:checked~label.sk-toggleable__label {background-color: #d4ebff;}#sk-container-id-2 input.sk-hidden--visually {border: 0;clip: rect(1px 1px 1px 1px);clip: rect(1px, 1px, 1px, 1px);height: 1px;margin: -1px;overflow: hidden;padding: 0;position: absolute;width: 1px;}#sk-container-id-2 div.sk-estimator {font-family: monospace;background-color: #f0f8ff;border: 1px dotted black;border-radius: 0.25em;box-sizing: border-box;margin-bottom: 0.5em;}#sk-container-id-2 div.sk-estimator:hover {background-color: #d4ebff;}#sk-container-id-2 div.sk-parallel-item::after {content: \"\";width: 100%;border-bottom: 1px solid gray;flex-grow: 1;}#sk-container-id-2 div.sk-label:hover label.sk-toggleable__label {background-color: #d4ebff;}#sk-container-id-2 div.sk-serial::before {content: \"\";position: absolute;border-left: 1px solid gray;box-sizing: border-box;top: 0;bottom: 0;left: 50%;z-index: 0;}#sk-container-id-2 div.sk-serial {display: flex;flex-direction: column;align-items: center;background-color: white;padding-right: 0.2em;padding-left: 0.2em;position: relative;}#sk-container-id-2 div.sk-item {position: relative;z-index: 1;}#sk-container-id-2 div.sk-parallel {display: flex;align-items: stretch;justify-content: center;background-color: white;position: relative;}#sk-container-id-2 div.sk-item::before, #sk-container-id-2 div.sk-parallel-item::before {content: \"\";position: absolute;border-left: 1px solid gray;box-sizing: border-box;top: 0;bottom: 0;left: 50%;z-index: -1;}#sk-container-id-2 div.sk-parallel-item {display: flex;flex-direction: column;z-index: 1;position: relative;background-color: white;}#sk-container-id-2 div.sk-parallel-item:first-child::after {align-self: flex-end;width: 50%;}#sk-container-id-2 div.sk-parallel-item:last-child::after {align-self: flex-start;width: 50%;}#sk-container-id-2 div.sk-parallel-item:only-child::after {width: 0;}#sk-container-id-2 div.sk-dashed-wrapped {border: 1px dashed gray;margin: 0 0.4em 0.5em 0.4em;box-sizing: border-box;padding-bottom: 0.4em;background-color: white;}#sk-container-id-2 div.sk-label label {font-family: monospace;font-weight: bold;display: inline-block;line-height: 1.2em;}#sk-container-id-2 div.sk-label-container {text-align: center;}#sk-container-id-2 div.sk-container {/* jupyter's `normalize.less` sets `[hidden] { display: none; }` but bootstrap.min.css set `[hidden] { display: none !important; }` so we also need the `!important` here to be able to override the default hidden behavior on the sphinx rendered scikit-learn.org. See: https://github.com/scikit-learn/scikit-learn/issues/21755 */display: inline-block !important;position: relative;}#sk-container-id-2 div.sk-text-repr-fallback {display: none;}</style><div id=\"sk-container-id-2\" class=\"sk-top-container\"><div class=\"sk-text-repr-fallback\"><pre>LogisticRegression()</pre><b>In a Jupyter environment, please rerun this cell to show the HTML representation or trust the notebook. <br />On GitHub, the HTML representation is unable to render, please try loading this page with nbviewer.org.</b></div><div class=\"sk-container\" hidden><div class=\"sk-item\"><div class=\"sk-estimator sk-toggleable\"><input class=\"sk-toggleable__control sk-hidden--visually\" id=\"sk-estimator-id-2\" type=\"checkbox\" checked><label for=\"sk-estimator-id-2\" class=\"sk-toggleable__label sk-toggleable__label-arrow\">LogisticRegression</label><div class=\"sk-toggleable__content\"><pre>LogisticRegression()</pre></div></div></div></div></div>"
            ]
          },
          "metadata": {},
          "execution_count": 23
        }
      ]
    },
    {
      "cell_type": "markdown",
      "source": [
        "## Creating and evaluating Logistic Regression model for two features - sepal_width, sepal_length"
      ],
      "metadata": {
        "id": "XPFxr2LxnT-C"
      }
    },
    {
      "cell_type": "code",
      "source": [
        "from sklearn.linear_model import LogisticRegression\n",
        "from sklearn import metrics\n",
        "from sklearn.model_selection import train_test_split\n",
        "from sklearn import preprocessing\n",
        "from sklearn.metrics import classification_report\n",
        "from sklearn.metrics import confusion_matrix\n",
        "\n",
        "X = dataset.drop(columns='class_of_iris')\n",
        "X_petal_width = dataset['petal_width']\n",
        "y = dataset['class_of_iris']\n",
        "\n",
        "label_encoder = preprocessing.LabelEncoder()\n",
        "y_label_encoder = label_encoder.fit_transform(y)\n",
        "\n",
        "X_train, X_test, y_train, y_test = train_test_split(X_petal_width, y_label_encoder,\n",
        "                                                    test_size=0.3, random_state=0)\n",
        "\n",
        "X_train = np.reshape(X_train.values, (-1,1))\n",
        "X_test = np.reshape(X_test.values, (-1,1))\n",
        "\n",
        "logreg = LogisticRegression()\n",
        "logreg.fit(X_train, y_train)\n",
        "\n",
        "print('Evalutation metrics')\n",
        "y_pred = logreg.predict(X_test)\n",
        "print('Accuracy of test set: {:.2f}'.format(logreg.score(X_test, y_test)))\n",
        "\n",
        "report = classification_report(y_test, y_pred)\n",
        "print(report)"
      ],
      "metadata": {
        "id": "gcHusOnPnVOp"
      },
      "execution_count": null,
      "outputs": []
    }
  ]
}